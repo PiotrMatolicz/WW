{
 "cells": [
  {
   "cell_type": "code",
   "execution_count": null,
   "id": "ec26864c-35de-456e-8f84-aab6ae65d1d2",
   "metadata": {},
   "outputs": [],
   "source": [
    "liczby = [7, 3, 12, 5, 14, 8, 9]\n",
    "indeks = 0\n",
    "liczba=0\n",
    "while True:\n",
    "    if indeks < len(liczby):\n",
    "       print(f\"Pierwsza liczba większa od 10 to {liczba}, znajdująca się na pozycji {indeks}.\")\n",
    "    else:\n",
    "       print(\"Nie znaleziono liczby większej od 10 w liście.\")"
   ]
  },
  {
   "cell_type": "code",
   "execution_count": null,
   "id": "baa9fd5a-ddef-41c7-9b68-57de976eb2bd",
   "metadata": {},
   "outputs": [],
   "source": []
  }
 ],
 "metadata": {
  "kernelspec": {
   "display_name": "Python 3 (ipykernel)",
   "language": "python",
   "name": "python3"
  },
  "language_info": {
   "codemirror_mode": {
    "name": "ipython",
    "version": 3
   },
   "file_extension": ".py",
   "mimetype": "text/x-python",
   "name": "python",
   "nbconvert_exporter": "python",
   "pygments_lexer": "ipython3",
   "version": "3.12.0"
  }
 },
 "nbformat": 4,
 "nbformat_minor": 5
}
